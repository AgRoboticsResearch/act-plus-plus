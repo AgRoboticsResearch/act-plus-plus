{
 "cells": [
  {
   "cell_type": "code",
   "execution_count": 41,
   "metadata": {},
   "outputs": [],
   "source": [
    "import PyKDL\n",
    "import kdl_parser_py.urdf\n"
   ]
  },
  {
   "cell_type": "code",
   "execution_count": 42,
   "metadata": {},
   "outputs": [
    {
     "name": "stdout",
     "output_type": "stream",
     "text": [
      "ok:  True\n"
     ]
    }
   ],
   "source": [
    "(ok, tree)  = kdl_parser_py.urdf.treeFromFile(\"/home/zfei/codes/act-plus-plus/playground/z1_robot.xacro\")\n",
    "print(\"ok: \", ok)\n"
   ]
  },
  {
   "cell_type": "code",
   "execution_count": 45,
   "metadata": {},
   "outputs": [],
   "source": [
    "def joint_states_to_jnt_array(joint_states):\n",
    "    # Convert joint states to a KDL JntArray\n",
    "    kdl_joint_array = PyKDL.JntArray(len(joint_states))\n",
    "    for i, value in enumerate(joint_states):\n",
    "        kdl_joint_array[i] = value\n",
    "    kdl_joint_array\n",
    "    return kdl_joint_array"
   ]
  },
  {
   "cell_type": "code",
   "execution_count": 43,
   "metadata": {},
   "outputs": [],
   "source": [
    "chain = tree.getChain(\"link00\", \"link06\")  # Replace with actual link names\n",
    "fk_solver = PyKDL.ChainFkSolverPos_recursive(chain)\n"
   ]
  },
  {
   "cell_type": "code",
   "execution_count": 44,
   "metadata": {},
   "outputs": [],
   "source": [
    "joint_states = [-0.0010887124809900177, 1.4884100482973608, -1.3307996878993358, -0.216861553564872, 0.0002238291478332484, 1.4884889882406714e-05]"
   ]
  },
  {
   "cell_type": "code",
   "execution_count": 46,
   "metadata": {},
   "outputs": [],
   "source": [
    "kdl_joint_array = joint_states_to_jnt_array(joint_states)"
   ]
  },
  {
   "cell_type": "code",
   "execution_count": 39,
   "metadata": {},
   "outputs": [],
   "source": [
    "frame = PyKDL.Frame()\n",
    "fk_solver.JntToCart(kdl_joint_array, frame)\n",
    "# Extract position and orientation\n",
    "position = [frame.p.x(), frame.p.y(), frame.p.z()]\n",
    "orientation = [frame.M.GetQuaternion()[0], frame.M.GetQuaternion()[1],\n",
    "                frame.M.GetQuaternion()[2], frame.M.GetQuaternion()[3]]"
   ]
  },
  {
   "cell_type": "code",
   "execution_count": 40,
   "metadata": {},
   "outputs": [
    {
     "name": "stdout",
     "output_type": "stream",
     "text": [
      "[0.31443262989082954, -0.0003313144633375164, 0.48144798208486855]\n"
     ]
    }
   ],
   "source": [
    "print(position)"
   ]
  },
  {
   "cell_type": "code",
   "execution_count": null,
   "metadata": {},
   "outputs": [],
   "source": []
  }
 ],
 "metadata": {
  "kernelspec": {
   "display_name": "Python 3 (ipykernel)",
   "language": "python",
   "name": "python3"
  },
  "language_info": {
   "codemirror_mode": {
    "name": "ipython",
    "version": 3
   },
   "file_extension": ".py",
   "mimetype": "text/x-python",
   "name": "python",
   "nbconvert_exporter": "python",
   "pygments_lexer": "ipython3",
   "version": "3.10.13"
  }
 },
 "nbformat": 4,
 "nbformat_minor": 2
}

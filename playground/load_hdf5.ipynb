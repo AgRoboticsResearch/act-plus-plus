{
 "cells": [
  {
   "cell_type": "code",
   "execution_count": 1,
   "metadata": {},
   "outputs": [],
   "source": [
    "import h5py\n",
    "import glob, os, sys"
   ]
  },
  {
   "cell_type": "code",
   "execution_count": 6,
   "metadata": {},
   "outputs": [
    {
     "data": {
      "text/plain": [
       "['/mnt/data1/act/act_demo_z1_push_red/episode_8.hdf5',\n",
       " '/mnt/data1/act/act_demo_z1_push_red/episode_0.hdf5',\n",
       " '/mnt/data1/act/act_demo_z1_push_red/episode_7.hdf5',\n",
       " '/mnt/data1/act/act_demo_z1_push_red/episode_3.hdf5',\n",
       " '/mnt/data1/act/act_demo_z1_push_red/episode_10.hdf5',\n",
       " '/mnt/data1/act/act_demo_z1_push_red/episode_2.hdf5',\n",
       " '/mnt/data1/act/act_demo_z1_push_red/episode_11.hdf5',\n",
       " '/mnt/data1/act/act_demo_z1_push_red/episode_4.hdf5',\n",
       " '/mnt/data1/act/act_demo_z1_push_red/episode_9.hdf5',\n",
       " '/mnt/data1/act/act_demo_z1_push_red/episode_1.hdf5',\n",
       " '/mnt/data1/act/act_demo_z1_push_red/episode_5.hdf5']"
      ]
     },
     "execution_count": 6,
     "metadata": {},
     "output_type": "execute_result"
    }
   ],
   "source": [
    "h5_paths = glob.glob(\"/mnt/data1/act/act_demo_z1_push_red/*.hdf5\")\n",
    "h5_paths"
   ]
  },
  {
   "cell_type": "code",
   "execution_count": 7,
   "metadata": {},
   "outputs": [],
   "source": [
    "f = h5py.File(h5_paths[0], 'r')"
   ]
  },
  {
   "cell_type": "code",
   "execution_count": 8,
   "metadata": {},
   "outputs": [
    {
     "data": {
      "text/plain": [
       "['action', 'observations']"
      ]
     },
     "execution_count": 8,
     "metadata": {},
     "output_type": "execute_result"
    }
   ],
   "source": [
    "list(f.keys())"
   ]
  },
  {
   "cell_type": "code",
   "execution_count": 11,
   "metadata": {},
   "outputs": [
    {
     "data": {
      "text/plain": [
       "<KeysViewHDF5 ['i', 'r', 's', 't', 'w']>"
      ]
     },
     "execution_count": 11,
     "metadata": {},
     "output_type": "execute_result"
    }
   ],
   "source": [
    "f['observations/images'].keys()"
   ]
  },
  {
   "cell_type": "code",
   "execution_count": null,
   "metadata": {},
   "outputs": [],
   "source": []
  }
 ],
 "metadata": {
  "kernelspec": {
   "display_name": "torch",
   "language": "python",
   "name": "python3"
  },
  "language_info": {
   "codemirror_mode": {
    "name": "ipython",
    "version": 3
   },
   "file_extension": ".py",
   "mimetype": "text/x-python",
   "name": "python",
   "nbconvert_exporter": "python",
   "pygments_lexer": "ipython3",
   "version": "3.11.4"
  }
 },
 "nbformat": 4,
 "nbformat_minor": 2
}

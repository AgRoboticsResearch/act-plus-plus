{
 "cells": [
  {
   "cell_type": "code",
   "execution_count": 1,
   "metadata": {},
   "outputs": [],
   "source": [
    "import os\n"
   ]
  },
  {
   "cell_type": "code",
   "execution_count": 2,
   "metadata": {},
   "outputs": [],
   "source": [
    "datapath = \"/mnt/data1/act/act_demo_scara_whiteboard_pick_one\""
   ]
  },
  {
   "cell_type": "code",
   "execution_count": 3,
   "metadata": {},
   "outputs": [
    {
     "data": {
      "text/plain": [
       "<generator object _walk at 0x7d86c3556e30>"
      ]
     },
     "execution_count": 3,
     "metadata": {},
     "output_type": "execute_result"
    }
   ],
   "source": []
  },
  {
   "cell_type": "code",
   "execution_count": 8,
   "metadata": {},
   "outputs": [
    {
     "name": "stdout",
     "output_type": "stream",
     "text": [
      "[]\n",
      "['config.pkl']\n",
      "['episode_16.hdf5', 'episode_8.hdf5', 'episode_12.hdf5', 'episode_0.hdf5', 'episode_14.hdf5', 'episode_6.hdf5', 'episode_7.hdf5', 'episode_3.hdf5', 'episode_10.hdf5', 'episode_2.hdf5', 'episode_15.hdf5', 'episode_11.hdf5', 'episode_4.hdf5', 'episode_13.hdf5', 'episode_9.hdf5', 'episode_1.hdf5', 'episode_5.hdf5']\n",
      "['episode_16.hdf5', 'episode_30.hdf5', 'episode_47.hdf5', 'episode_37.hdf5', 'episode_44.hdf5', 'episode_36.hdf5', 'episode_8.hdf5', 'episode_22.hdf5', 'episode_41.hdf5', 'episode_12.hdf5', 'episode_0.hdf5', 'episode_27.hdf5', 'episode_23.hdf5', 'episode_42.hdf5', 'episode_31.hdf5', 'episode_33.hdf5', 'episode_14.hdf5', 'episode_35.hdf5', 'episode_40.hdf5', 'episode_43.hdf5', 'episode_6.hdf5', 'episode_24.hdf5', 'episode_7.hdf5', 'episode_3.hdf5', 'episode_51.hdf5', 'episode_18.hdf5', 'episode_46.hdf5', 'episode_17.hdf5', 'episode_10.hdf5', 'episode_2.hdf5', 'episode_26.hdf5', 'episode_21.hdf5', 'episode_28.hdf5', 'episode_29.hdf5', 'episode_15.hdf5', 'episode_32.hdf5', 'episode_45.hdf5', 'episode_50.hdf5', 'episode_11.hdf5', 'episode_4.hdf5', 'episode_13.hdf5', 'episode_9.hdf5', 'episode_1.hdf5', 'episode_38.hdf5', 'episode_48.hdf5', 'episode_49.hdf5', 'episode_5.hdf5', 'episode_19.hdf5', 'episode_39.hdf5', 'episode_20.hdf5', 'episode_25.hdf5', 'episode_34.hdf5']\n"
     ]
    }
   ],
   "source": [
    "for root, dirs, files in os.walk(datapath, followlinks=True):\n",
    "    print(files)\n"
   ]
  },
  {
   "cell_type": "code",
   "execution_count": null,
   "metadata": {},
   "outputs": [],
   "source": []
  }
 ],
 "metadata": {
  "kernelspec": {
   "display_name": "py310",
   "language": "python",
   "name": "python3"
  },
  "language_info": {
   "codemirror_mode": {
    "name": "ipython",
    "version": 3
   },
   "file_extension": ".py",
   "mimetype": "text/x-python",
   "name": "python",
   "nbconvert_exporter": "python",
   "pygments_lexer": "ipython3",
   "version": "3.10.12"
  }
 },
 "nbformat": 4,
 "nbformat_minor": 2
}

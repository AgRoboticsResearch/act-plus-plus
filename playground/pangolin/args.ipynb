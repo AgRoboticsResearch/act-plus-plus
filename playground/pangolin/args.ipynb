{
 "cells": [
  {
   "cell_type": "code",
   "execution_count": 1,
   "metadata": {},
   "outputs": [],
   "source": [
    "import argparse\n"
   ]
  },
  {
   "cell_type": "code",
   "execution_count": 48,
   "metadata": {},
   "outputs": [],
   "source": [
    "def dict_to_args(my_dict):\n",
    "    parser = argparse.ArgumentParser(add_help=False)\n",
    "    for key, value in my_dict.items():\n",
    "        parser.add_argument(f\"--{key}\", default=value)\n",
    "    return parser.parse_args([])"
   ]
  },
  {
   "cell_type": "code",
   "execution_count": 49,
   "metadata": {},
   "outputs": [],
   "source": [
    "args_dict = {'lr':1e-05, \n",
    "        'lr_backbone':1e-05, \n",
    "        'batch_size':2, \n",
    "        'weight_decay':0.0001, \n",
    "        'epochs':300, \n",
    "        'lr_drop':200, \n",
    "        'clip_max_norm':0.1, \n",
    "        'backbone':'resnet18', \n",
    "        'dilation':False, \n",
    "        'position_embedding':'sine', \n",
    "        'camera_names':['wrist'], \n",
    "        'enc_layers':4, \n",
    "        'dec_layers':7, \n",
    "        'dim_feedforward':3200, \n",
    "        'hidden_dim':512, \n",
    "        'dropout':0.1, \n",
    "        'nheads':8, \n",
    "        'num_queries':100, \n",
    "        'pre_norm':False, \n",
    "        'masks':False, \n",
    "        'eval':False, \n",
    "        'onscreen_render':False, \n",
    "        'ckpt_dir':'', \n",
    "        'policy_class':'ACT', \n",
    "        'task_name':'', \n",
    "        'seed':0, \n",
    "        'num_steps':2000, \n",
    "        'kl_weight':10, \n",
    "        'chunk_size':None, \n",
    "        'temporal_agg':False, \n",
    "        'use_vq':False, \n",
    "        'vq':False, \n",
    "        'vq_class':None, \n",
    "        'vq_dim':None, \n",
    "        'load_pretrain':False, \n",
    "        'action_dim':6, \n",
    "        'eval_every':500, \n",
    "        'validate_every':500, \n",
    "        'save_every':500, \n",
    "        'resume_ckpt_path':None, \n",
    "        'no_encoder':False, \n",
    "        'skip_mirrored_data':False, \n",
    "        'actuator_network_dir':None, \n",
    "        'history_len':None, \n",
    "        'future_len':None, \n",
    "        'prediction_len':None}\n"
   ]
  },
  {
   "cell_type": "code",
   "execution_count": 50,
   "metadata": {},
   "outputs": [],
   "source": [
    "args_override = {'lr': 1e-05, \n",
    "                'num_queries': 100, \n",
    "                'kl_weight': 10, \n",
    "                'hidden_dim': 512, \n",
    "                'dim_feedforward': 3200, \n",
    "                'lr_backbone': 1e-05, \n",
    "                'backbone': 'resnet18', \n",
    "                'enc_layers': 4, \n",
    "                'dec_layers': 7, \n",
    "                'nheads': 8, \n",
    "                'camera_names': ['top', \n",
    "                'left_wrist', \n",
    "                'right_wrist'], \n",
    "                'vq': False, \n",
    "                'vq_class': None, \n",
    "                'vq_dim': None, \n",
    "                'action_dim': 16, \n",
    "                'no_encoder': False}\n"
   ]
  },
  {
   "cell_type": "code",
   "execution_count": 51,
   "metadata": {},
   "outputs": [],
   "source": [
    "args = dict_to_args(args_dict)"
   ]
  },
  {
   "cell_type": "code",
   "execution_count": 52,
   "metadata": {},
   "outputs": [
    {
     "data": {
      "text/plain": [
       "{'lr': 1e-05,\n",
       " 'num_queries': 100,\n",
       " 'kl_weight': 10,\n",
       " 'hidden_dim': 512,\n",
       " 'dim_feedforward': 3200,\n",
       " 'lr_backbone': 1e-05,\n",
       " 'backbone': 'resnet18',\n",
       " 'enc_layers': 4,\n",
       " 'dec_layers': 7,\n",
       " 'nheads': 8,\n",
       " 'camera_names': ['top', 'left_wrist', 'right_wrist'],\n",
       " 'vq': False,\n",
       " 'vq_class': None,\n",
       " 'vq_dim': None,\n",
       " 'action_dim': 16,\n",
       " 'no_encoder': False}"
      ]
     },
     "execution_count": 52,
     "metadata": {},
     "output_type": "execute_result"
    }
   ],
   "source": [
    "args_override"
   ]
  },
  {
   "cell_type": "code",
   "execution_count": null,
   "metadata": {},
   "outputs": [],
   "source": []
  },
  {
   "cell_type": "code",
   "execution_count": 53,
   "metadata": {},
   "outputs": [],
   "source": [
    "for k, v in args_override.items():\n",
    "    setattr(args, k, v)\n"
   ]
  },
  {
   "cell_type": "code",
   "execution_count": 54,
   "metadata": {},
   "outputs": [
    {
     "data": {
      "text/plain": [
       "Namespace(lr=1e-05, lr_backbone=1e-05, batch_size=2, weight_decay=0.0001, epochs=300, lr_drop=200, clip_max_norm=0.1, backbone='resnet18', dilation=False, position_embedding='sine', camera_names=['top', 'left_wrist', 'right_wrist'], enc_layers=4, dec_layers=7, dim_feedforward=3200, hidden_dim=512, dropout=0.1, nheads=8, num_queries=100, pre_norm=False, masks=False, eval=False, onscreen_render=False, ckpt_dir='', policy_class='ACT', task_name='', seed=0, num_steps=2000, kl_weight=10, chunk_size=None, temporal_agg=False, use_vq=False, vq=False, vq_class=None, vq_dim=None, load_pretrain=False, action_dim=16, eval_every=500, validate_every=500, save_every=500, resume_ckpt_path=None, no_encoder=False, skip_mirrored_data=False, actuator_network_dir=None, history_len=None, future_len=None, prediction_len=None)"
      ]
     },
     "execution_count": 54,
     "metadata": {},
     "output_type": "execute_result"
    }
   ],
   "source": [
    "args"
   ]
  },
  {
   "cell_type": "code",
   "execution_count": null,
   "metadata": {},
   "outputs": [],
   "source": []
  }
 ],
 "metadata": {
  "kernelspec": {
   "display_name": "py310",
   "language": "python",
   "name": "python3"
  },
  "language_info": {
   "codemirror_mode": {
    "name": "ipython",
    "version": 3
   },
   "file_extension": ".py",
   "mimetype": "text/x-python",
   "name": "python",
   "nbconvert_exporter": "python",
   "pygments_lexer": "ipython3",
   "version": "3.10.13"
  }
 },
 "nbformat": 4,
 "nbformat_minor": 2
}

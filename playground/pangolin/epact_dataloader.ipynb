{
 "cells": [
  {
   "cell_type": "code",
   "execution_count": 70,
   "metadata": {},
   "outputs": [],
   "source": [
    "import numpy as np\n",
    "import torch\n",
    "import os\n",
    "import h5py\n",
    "import pickle\n",
    "import fnmatch\n",
    "import cv2\n",
    "import sys\n",
    "from time import time\n",
    "from torch.utils.data import TensorDataset, DataLoader\n",
    "np.set_printoptions(suppress=True)\n"
   ]
  },
  {
   "cell_type": "code",
   "execution_count": 71,
   "metadata": {},
   "outputs": [],
   "source": [
    "import kdl_parser_py.urdf\n"
   ]
  },
  {
   "cell_type": "code",
   "execution_count": 72,
   "metadata": {},
   "outputs": [
    {
     "name": "stdout",
     "output_type": "stream",
     "text": [
      "The autoreload extension is already loaded. To reload it, use:\n",
      "  %reload_ext autoreload\n"
     ]
    }
   ],
   "source": [
    "act_path = \"/home/zfei/code/act-plus-plus/\"\n",
    "sys.path.append(act_path)\n",
    "from utils import EpisodicDataset\n",
    "from utils import find_all_hdf5, flatten_list, get_norm_stats\n",
    "\n",
    "%load_ext autoreload\n",
    "%autoreload 2"
   ]
  },
  {
   "cell_type": "code",
   "execution_count": 78,
   "metadata": {},
   "outputs": [
    {
     "name": "stdout",
     "output_type": "stream",
     "text": [
      "Found 51 hdf5 files\n"
     ]
    }
   ],
   "source": [
    "dataset_path_list = find_all_hdf5(\"/mnt/data1/act/train_act_scara_3cam/data1/\", skip_mirrored_data=False)\n",
    "norm_stats, all_episode_len = get_norm_stats(dataset_path_list)\n",
    "\n",
    "camera_names = ['wrist', 'wrist_down', 'top']\n",
    "train_episode_ids = [0, 1]\n",
    "train_episode_len = [all_episode_len[i] for i in train_episode_ids]\n",
    "\n",
    "chunk_size = 64\n",
    "policy_class = \"EPACT\""
   ]
  },
  {
   "cell_type": "code",
   "execution_count": 80,
   "metadata": {},
   "outputs": [
    {
     "name": "stdout",
     "output_type": "stream",
     "text": [
      "URDF Path:  /home/zfei/code/act-plus-plus/urdf/hitbot_model.urdf\n",
      "kdl_parse urdf ok?:  True\n",
      "augment_images:  False\n",
      "Initializing transformations\n"
     ]
    }
   ],
   "source": [
    "train_dataset = EpisodicDataset(dataset_path_list, camera_names, norm_stats, train_episode_ids, train_episode_len, chunk_size, policy_class)\n"
   ]
  },
  {
   "cell_type": "code",
   "execution_count": 75,
   "metadata": {},
   "outputs": [
    {
     "name": "stdout",
     "output_type": "stream",
     "text": [
      "image_data:  torch.Size([3, 3, 480, 640])\n",
      "qpos_data:  torch.Size([4])\n",
      "action_data:  torch.Size([64, 5])\n",
      "end_pose_data:  torch.Size([65, 6])\n"
     ]
    }
   ],
   "source": [
    "index = 50\n",
    "image_data, qpos_data, action_data, is_pad, end_pose_data = train_dataset[0]\n",
    "print(\"image_data: \", image_data.shape)\n",
    "print(\"qpos_data: \", qpos_data.shape)\n",
    "print(\"action_data: \", action_data.shape)\n",
    "print(\"end_pose_data: \", end_pose_data.shape)"
   ]
  },
  {
   "cell_type": "code",
   "execution_count": 76,
   "metadata": {},
   "outputs": [],
   "source": [
    "dataloader = DataLoader(\n",
    "    dataset=train_dataset,\n",
    "    batch_size=8,\n",
    "    num_workers=1,\n",
    ")\n"
   ]
  },
  {
   "cell_type": "code",
   "execution_count": 69,
   "metadata": {},
   "outputs": [
    {
     "data": {
      "text/plain": [
       "array([[-0.567,  0.998, -1.693,  0.414, -0.943],\n",
       "       [-0.557,  1.003, -1.672,  0.397, -0.943],\n",
       "       [-0.557,  0.998, -1.677,  0.401, -0.943],\n",
       "       [-0.557,  0.993, -1.677,  0.401, -0.943],\n",
       "       [-0.567,  0.983, -1.693,  0.414, -0.943],\n",
       "       [-0.562,  0.983, -1.688,  0.409, -0.908],\n",
       "       [-0.557,  0.983, -1.677,  0.401, -0.856],\n",
       "       [-0.557,  0.973, -1.677,  0.401, -0.769],\n",
       "       [-0.557,  0.963, -1.677,  0.405, -0.664],\n",
       "       [-0.567,  0.948, -1.693,  0.418, -0.559],\n",
       "       [-0.557,  0.943, -1.683,  0.405, -0.437],\n",
       "       [-0.552,  0.943, -1.677,  0.401, -0.35 ],\n",
       "       [-0.552,  0.928, -1.672,  0.401, -0.28 ],\n",
       "       [-0.562,  0.918, -1.683,  0.409, -0.245],\n",
       "       [-0.567,  0.903, -1.693,  0.414, -0.193],\n",
       "       [-0.557,  0.893, -1.677,  0.401, -0.036],\n",
       "       [-0.552,  0.883, -1.677,  0.401,  0.121],\n",
       "       [-0.552,  0.868, -1.677,  0.401,  0.279],\n",
       "       [-0.562,  0.848, -1.688,  0.414,  0.436],\n",
       "       [-0.562,  0.833, -1.693,  0.414,  0.558],\n",
       "       [-0.552,  0.823, -1.672,  0.397,  0.662],\n",
       "       [-0.552,  0.803, -1.677,  0.397,  0.767],\n",
       "       [-0.552,  0.788, -1.677,  0.397,  0.802],\n",
       "       [-0.562,  0.758, -1.693,  0.405,  0.802],\n",
       "       [-0.562,  0.743, -1.693,  0.388,  0.802],\n",
       "       [-0.552,  0.723, -1.677,  0.362,  0.802],\n",
       "       [-0.552,  0.703, -1.677,  0.358,  0.802],\n",
       "       [-0.552,  0.682, -1.677,  0.345,  0.802],\n",
       "       [-0.562,  0.657, -1.693,  0.337,  0.802],\n",
       "       [-0.562,  0.652, -1.688,  0.307,  0.802],\n",
       "       [-0.552,  0.642, -1.677,  0.272,  0.802],\n",
       "       [-0.552,  0.637, -1.677,  0.246,  0.802],\n",
       "       [-0.557,  0.622, -1.677,  0.221,  0.802],\n",
       "       [-0.562,  0.607, -1.693,  0.199,  0.802],\n",
       "       [-0.557,  0.607, -1.683,  0.148,  0.802],\n",
       "       [-0.552,  0.612, -1.672,  0.092,  0.802],\n",
       "       [-0.552,  0.612, -1.661,  0.036,  0.802],\n",
       "       [-0.557,  0.602, -1.65 , -0.015,  0.802],\n",
       "       [-0.562,  0.597, -1.629, -0.092,  0.802],\n",
       "       [-0.552,  0.602, -1.58 , -0.217,  0.802],\n",
       "       [-0.552,  0.602, -1.527, -0.324,  0.802],\n",
       "       [-0.552,  0.602, -1.473, -0.427,  0.802],\n",
       "       [-0.562,  0.597, -1.424, -0.522,  0.802],\n",
       "       [-0.562,  0.592, -1.365, -0.624,  0.802],\n",
       "       [-0.552,  0.592, -1.284, -0.74 ,  0.802],\n",
       "       [-0.552,  0.582, -1.22 , -0.826,  0.802],\n",
       "       [-0.552,  0.562, -1.161, -0.891,  0.802],\n",
       "       [-0.562,  0.527, -1.123, -0.925,  0.802],\n",
       "       [-0.562,  0.502, -1.075, -0.959,  0.802],\n",
       "       [-0.552,  0.482, -1.016, -1.002,  0.802],\n",
       "       [-0.552,  0.467, -0.983, -1.036,  0.802],\n",
       "       [-0.552,  0.452, -0.951, -1.084,  0.802],\n",
       "       [-0.562,  0.437, -0.935, -1.118,  0.802],\n",
       "       [-0.562,  0.427, -0.897, -1.178,  0.802],\n",
       "       [-0.552,  0.417, -0.843, -1.229,  0.802],\n",
       "       [-0.552,  0.392, -0.795, -1.272,  0.802],\n",
       "       [-0.557,  0.372, -0.752, -1.307,  0.802],\n",
       "       [-0.562,  0.342, -0.714, -1.337,  0.802],\n",
       "       [-0.557,  0.326, -0.639, -1.392,  0.802],\n",
       "       [-0.552,  0.296, -0.564, -1.457,  0.802],\n",
       "       [-0.552,  0.281, -0.499, -1.513,  0.802],\n",
       "       [-0.557,  0.256, -0.445, -1.56 ,  0.802],\n",
       "       [-0.562,  0.231, -0.392, -1.603,  0.802],\n",
       "       [-0.552,  0.216, -0.316, -1.658,  0.802]], dtype=float32)"
      ]
     },
     "execution_count": 69,
     "metadata": {},
     "output_type": "execute_result"
    }
   ],
   "source": [
    "action_data.numpy()"
   ]
  },
  {
   "cell_type": "code",
   "execution_count": 63,
   "metadata": {},
   "outputs": [
    {
     "data": {
      "text/plain": [
       "array([[ 0.   , -0.   ,  0.   ,  0.   ,  0.   , -0.   ],\n",
       "       [-0.001, -0.001, -0.   , -0.   ,  0.   , -0.005],\n",
       "       [ 0.   , -0.001,  0.   , -0.   ,  0.   , -0.004],\n",
       "       [-0.   , -0.001,  0.   , -0.   ,  0.   , -0.005],\n",
       "       [-0.   , -0.001,  0.   , -0.   ,  0.   , -0.006],\n",
       "       [-0.001, -0.002, -0.   , -0.   ,  0.   , -0.009],\n",
       "       [-0.001, -0.002, -0.   , -0.   ,  0.   , -0.009],\n",
       "       [-0.001, -0.002,  0.   , -0.   ,  0.   , -0.008],\n",
       "       [-0.001, -0.003,  0.   , -0.   ,  0.   , -0.011],\n",
       "       [-0.001, -0.003,  0.   , -0.   ,  0.   , -0.012],\n",
       "       [-0.002, -0.004, -0.   , -0.   ,  0.   , -0.016],\n",
       "       [-0.002, -0.005,  0.   , -0.   ,  0.   , -0.018],\n",
       "       [-0.001, -0.005,  0.   , -0.   ,  0.   , -0.018],\n",
       "       [-0.002, -0.006,  0.   , -0.   ,  0.   , -0.02 ],\n",
       "       [-0.002, -0.006, -0.   , -0.   ,  0.   , -0.023],\n",
       "       [-0.003, -0.007, -0.   , -0.   ,  0.   , -0.027],\n",
       "       [-0.003, -0.008,  0.   , -0.   ,  0.   , -0.03 ],\n",
       "       [-0.003, -0.009,  0.   , -0.   ,  0.   , -0.032],\n",
       "       [-0.003, -0.01 ,  0.   , -0.   ,  0.   , -0.036],\n",
       "       [-0.004, -0.011, -0.   , -0.   ,  0.   , -0.039],\n",
       "       [-0.005, -0.012, -0.   , -0.   ,  0.   , -0.044],\n",
       "       [-0.004, -0.013,  0.   , -0.   ,  0.   , -0.046],\n",
       "       [-0.005, -0.014,  0.   , -0.   ,  0.   , -0.052],\n",
       "       [-0.005, -0.015,  0.   , -0.   ,  0.   , -0.056],\n",
       "       [-0.006, -0.017, -0.   , -0.   ,  0.   , -0.064],\n",
       "       [-0.007, -0.018, -0.   , -0.   ,  0.   , -0.072],\n",
       "       [-0.007, -0.02 ,  0.   , -0.   ,  0.   , -0.08 ],\n",
       "       [-0.007, -0.021,  0.   , -0.   ,  0.   , -0.086],\n",
       "       [-0.008, -0.023,  0.   , -0.   ,  0.   , -0.094],\n",
       "       [-0.009, -0.025, -0.   , -0.   ,  0.   , -0.106],\n",
       "       [-0.009, -0.026, -0.   , -0.   ,  0.   , -0.113],\n",
       "       [-0.009, -0.027,  0.   , -0.   ,  0.   , -0.122],\n",
       "       [-0.009, -0.028,  0.   , -0.   ,  0.   , -0.13 ],\n",
       "       [-0.009, -0.029,  0.   , -0.   ,  0.   , -0.141],\n",
       "       [-0.01 , -0.031, -0.   , -0.   ,  0.   , -0.153],\n",
       "       [-0.01 , -0.032,  0.   , -0.   ,  0.   , -0.164],\n",
       "       [-0.009, -0.033,  0.   , -0.   ,  0.   , -0.175],\n",
       "       [-0.009, -0.034,  0.   , -0.   ,  0.   , -0.188],\n",
       "       [-0.009, -0.035,  0.   , -0.   ,  0.   , -0.201],\n",
       "       [-0.008, -0.037, -0.   , -0.   ,  0.   , -0.218],\n",
       "       [-0.006, -0.038,  0.   , -0.   ,  0.   , -0.239],\n",
       "       [-0.004, -0.04 ,  0.   , -0.   ,  0.   , -0.255],\n",
       "       [-0.002, -0.041,  0.   , -0.   ,  0.   , -0.27 ],\n",
       "       [-0.   , -0.043, -0.   , -0.   ,  0.   , -0.286],\n",
       "       [ 0.002, -0.044, -0.   , -0.   ,  0.   , -0.301],\n",
       "       [ 0.005, -0.045,  0.   , -0.   ,  0.   , -0.314],\n",
       "       [ 0.008, -0.046,  0.   , -0.   ,  0.   , -0.324],\n",
       "       [ 0.01 , -0.048,  0.   , -0.   ,  0.   , -0.333],\n",
       "       [ 0.01 , -0.05 , -0.   , -0.   ,  0.   , -0.342],\n",
       "       [ 0.011, -0.052, -0.   , -0.   ,  0.   , -0.346],\n",
       "       [ 0.013, -0.053,  0.   , -0.   ,  0.   , -0.349],\n",
       "       [ 0.014, -0.054,  0.   , -0.   ,  0.   , -0.355],\n",
       "       [ 0.015, -0.055,  0.   , -0.   ,  0.   , -0.364],\n",
       "       [ 0.015, -0.057, -0.   , -0.   ,  0.   , -0.373],\n",
       "       [ 0.016, -0.058, -0.   , -0.   ,  0.   , -0.383],\n",
       "       [ 0.018, -0.059,  0.   , -0.   ,  0.   , -0.387],\n",
       "       [ 0.019, -0.06 ,  0.   , -0.   ,  0.   , -0.393],\n",
       "       [ 0.021, -0.062,  0.   , -0.   ,  0.   , -0.398],\n",
       "       [ 0.021, -0.064, -0.   , -0.   ,  0.   , -0.404],\n",
       "       [ 0.024, -0.064,  0.   , -0.   ,  0.   , -0.406],\n",
       "       [ 0.026, -0.066,  0.   , -0.   ,  0.   , -0.414],\n",
       "       [ 0.028, -0.067,  0.   , -0.   ,  0.   , -0.418],\n",
       "       [ 0.03 , -0.069,  0.   , -0.   ,  0.   , -0.424],\n",
       "       [ 0.031, -0.07 , -0.   , -0.   ,  0.   , -0.43 ],\n",
       "       [ 0.034, -0.071,  0.   , -0.   ,  0.   , -0.431]], dtype=float32)"
      ]
     },
     "execution_count": 63,
     "metadata": {},
     "output_type": "execute_result"
    }
   ],
   "source": [
    "end_pose_data.numpy()"
   ]
  },
  {
   "cell_type": "code",
   "execution_count": null,
   "metadata": {},
   "outputs": [],
   "source": []
  },
  {
   "cell_type": "code",
   "execution_count": 33,
   "metadata": {},
   "outputs": [],
   "source": [
    "\n",
    "import transformations as tf\n",
    "\n",
    "def batch_transform_to_xyzyrp_transformations(batch_transform):\n",
    "  \"\"\"\n",
    "  Converts a batch of transformation matrices (65, 4, 4) to a batch of (x, y, z, roll, pitch, yaw) (65, 6) using transformations library.\n",
    "\n",
    "  Note: This approach might have limitations and is not recommended as the primary method due to potential limitations in rotation order and axes supported.\n",
    "\n",
    "  Args:\n",
    "      batch_transform: A NumPy array of shape (batch_size, 4, 4) representing the batch of transformation matrices.\n",
    "\n",
    "  Returns:\n",
    "      A NumPy array of shape (batch_size, 6) containing the translation (x, y, z) and Euler angles (roll, pitch, yaw) for each transformation matrix.\n",
    "  \"\"\"\n",
    "  batch_xyzyrp = np.zeros((batch_transform.shape[0], 6))\n",
    "  for i in range(batch_transform.shape[0]):\n",
    "    matrix = batch_transform[i]\n",
    "    translation = matrix[:-1, 3]  # Extract translation (might be limited axes)\n",
    "    euler_angles = tf.euler_from_matrix(matrix, axes='sxyz')  # Might be limited axes\n",
    "\n",
    "    batch_xyzyrp[i] = np.concatenate([translation, euler_angles])\n",
    "  return batch_xyzyrp"
   ]
  },
  {
   "cell_type": "code",
   "execution_count": 34,
   "metadata": {},
   "outputs": [
    {
     "name": "stdout",
     "output_type": "stream",
     "text": [
      "(64, 4, 4)\n"
     ]
    }
   ],
   "source": [
    "trans_mats = np.asarray([np.diag([1, 1, 1, 1])] * 64)\n",
    "print(trans_mats.shape)"
   ]
  },
  {
   "cell_type": "code",
   "execution_count": 35,
   "metadata": {},
   "outputs": [
    {
     "data": {
      "text/plain": [
       "array([[ 0.,  0.,  0.,  0., -0.,  0.],\n",
       "       [ 0.,  0.,  0.,  0., -0.,  0.],\n",
       "       [ 0.,  0.,  0.,  0., -0.,  0.],\n",
       "       [ 0.,  0.,  0.,  0., -0.,  0.],\n",
       "       [ 0.,  0.,  0.,  0., -0.,  0.],\n",
       "       [ 0.,  0.,  0.,  0., -0.,  0.],\n",
       "       [ 0.,  0.,  0.,  0., -0.,  0.],\n",
       "       [ 0.,  0.,  0.,  0., -0.,  0.],\n",
       "       [ 0.,  0.,  0.,  0., -0.,  0.],\n",
       "       [ 0.,  0.,  0.,  0., -0.,  0.],\n",
       "       [ 0.,  0.,  0.,  0., -0.,  0.],\n",
       "       [ 0.,  0.,  0.,  0., -0.,  0.],\n",
       "       [ 0.,  0.,  0.,  0., -0.,  0.],\n",
       "       [ 0.,  0.,  0.,  0., -0.,  0.],\n",
       "       [ 0.,  0.,  0.,  0., -0.,  0.],\n",
       "       [ 0.,  0.,  0.,  0., -0.,  0.],\n",
       "       [ 0.,  0.,  0.,  0., -0.,  0.],\n",
       "       [ 0.,  0.,  0.,  0., -0.,  0.],\n",
       "       [ 0.,  0.,  0.,  0., -0.,  0.],\n",
       "       [ 0.,  0.,  0.,  0., -0.,  0.],\n",
       "       [ 0.,  0.,  0.,  0., -0.,  0.],\n",
       "       [ 0.,  0.,  0.,  0., -0.,  0.],\n",
       "       [ 0.,  0.,  0.,  0., -0.,  0.],\n",
       "       [ 0.,  0.,  0.,  0., -0.,  0.],\n",
       "       [ 0.,  0.,  0.,  0., -0.,  0.],\n",
       "       [ 0.,  0.,  0.,  0., -0.,  0.],\n",
       "       [ 0.,  0.,  0.,  0., -0.,  0.],\n",
       "       [ 0.,  0.,  0.,  0., -0.,  0.],\n",
       "       [ 0.,  0.,  0.,  0., -0.,  0.],\n",
       "       [ 0.,  0.,  0.,  0., -0.,  0.],\n",
       "       [ 0.,  0.,  0.,  0., -0.,  0.],\n",
       "       [ 0.,  0.,  0.,  0., -0.,  0.],\n",
       "       [ 0.,  0.,  0.,  0., -0.,  0.],\n",
       "       [ 0.,  0.,  0.,  0., -0.,  0.],\n",
       "       [ 0.,  0.,  0.,  0., -0.,  0.],\n",
       "       [ 0.,  0.,  0.,  0., -0.,  0.],\n",
       "       [ 0.,  0.,  0.,  0., -0.,  0.],\n",
       "       [ 0.,  0.,  0.,  0., -0.,  0.],\n",
       "       [ 0.,  0.,  0.,  0., -0.,  0.],\n",
       "       [ 0.,  0.,  0.,  0., -0.,  0.],\n",
       "       [ 0.,  0.,  0.,  0., -0.,  0.],\n",
       "       [ 0.,  0.,  0.,  0., -0.,  0.],\n",
       "       [ 0.,  0.,  0.,  0., -0.,  0.],\n",
       "       [ 0.,  0.,  0.,  0., -0.,  0.],\n",
       "       [ 0.,  0.,  0.,  0., -0.,  0.],\n",
       "       [ 0.,  0.,  0.,  0., -0.,  0.],\n",
       "       [ 0.,  0.,  0.,  0., -0.,  0.],\n",
       "       [ 0.,  0.,  0.,  0., -0.,  0.],\n",
       "       [ 0.,  0.,  0.,  0., -0.,  0.],\n",
       "       [ 0.,  0.,  0.,  0., -0.,  0.],\n",
       "       [ 0.,  0.,  0.,  0., -0.,  0.],\n",
       "       [ 0.,  0.,  0.,  0., -0.,  0.],\n",
       "       [ 0.,  0.,  0.,  0., -0.,  0.],\n",
       "       [ 0.,  0.,  0.,  0., -0.,  0.],\n",
       "       [ 0.,  0.,  0.,  0., -0.,  0.],\n",
       "       [ 0.,  0.,  0.,  0., -0.,  0.],\n",
       "       [ 0.,  0.,  0.,  0., -0.,  0.],\n",
       "       [ 0.,  0.,  0.,  0., -0.,  0.],\n",
       "       [ 0.,  0.,  0.,  0., -0.,  0.],\n",
       "       [ 0.,  0.,  0.,  0., -0.,  0.],\n",
       "       [ 0.,  0.,  0.,  0., -0.,  0.],\n",
       "       [ 0.,  0.,  0.,  0., -0.,  0.],\n",
       "       [ 0.,  0.,  0.,  0., -0.,  0.],\n",
       "       [ 0.,  0.,  0.,  0., -0.,  0.]])"
      ]
     },
     "execution_count": 35,
     "metadata": {},
     "output_type": "execute_result"
    }
   ],
   "source": [
    "batch_euler_angles = batch_transform_to_xyzyrp_transformations(trans_mats)\n",
    "batch_euler_angles"
   ]
  },
  {
   "cell_type": "code",
   "execution_count": null,
   "metadata": {},
   "outputs": [],
   "source": []
  }
 ],
 "metadata": {
  "kernelspec": {
   "display_name": "py310",
   "language": "python",
   "name": "python3"
  },
  "language_info": {
   "codemirror_mode": {
    "name": "ipython",
    "version": 3
   },
   "file_extension": ".py",
   "mimetype": "text/x-python",
   "name": "python",
   "nbconvert_exporter": "python",
   "pygments_lexer": "ipython3",
   "version": "3.10.12"
  }
 },
 "nbformat": 4,
 "nbformat_minor": 2
}

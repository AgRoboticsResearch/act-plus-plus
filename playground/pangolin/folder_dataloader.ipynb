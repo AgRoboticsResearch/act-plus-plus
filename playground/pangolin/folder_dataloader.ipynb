{
 "cells": [
  {
   "cell_type": "code",
   "execution_count": 23,
   "metadata": {},
   "outputs": [],
   "source": [
    "import numpy as np\n",
    "import torch\n",
    "import os\n",
    "from itertools import repeat\n",
    "\n",
    "import h5py\n",
    "import pickle\n",
    "import fnmatch\n",
    "import cv2\n",
    "import sys\n",
    "from time import time\n",
    "from torch.utils.data import TensorDataset, DataLoader\n",
    "from scipy.spatial.transform import Rotation\n",
    "\n",
    "np.set_printoptions(suppress=True)\n"
   ]
  },
  {
   "cell_type": "code",
   "execution_count": 2,
   "metadata": {},
   "outputs": [],
   "source": [
    "act_path = \"/home/zfei/code/act-plus-plus/\"\n",
    "sys.path.append(act_path)\n",
    "from utils import EpisodicDataset\n",
    "from utils import find_all_hdf5, flatten_list, get_norm_stats\n",
    "\n",
    "%load_ext autoreload\n",
    "%autoreload 2"
   ]
  },
  {
   "cell_type": "code",
   "execution_count": 3,
   "metadata": {},
   "outputs": [
    {
     "name": "stdout",
     "output_type": "stream",
     "text": [
      "Found 51 hdf5 files\n"
     ]
    }
   ],
   "source": [
    "dataset_path_list = find_all_hdf5(\"/mnt/data1/act/train_act_scara_3cam/data1/\", skip_mirrored_data=False)\n",
    "norm_stats, all_episode_len = get_norm_stats(dataset_path_list)\n",
    "\n",
    "camera_names = ['wrist', 'wrist_down', 'top']\n",
    "train_episode_ids = [0, 1]\n",
    "train_episode_len = [all_episode_len[i] for i in train_episode_ids]\n",
    "\n",
    "chunk_size = 64\n",
    "policy_class = \"EPACT\""
   ]
  },
  {
   "cell_type": "code",
   "execution_count": 5,
   "metadata": {},
   "outputs": [
    {
     "name": "stdout",
     "output_type": "stream",
     "text": [
      "URDF Path:  /home/zfei/code/act-plus-plus/urdf/hitbot_model.urdf\n",
      "kdl_parse urdf ok?:  True\n",
      "augment_images:  False\n",
      "Initializing transformations\n"
     ]
    }
   ],
   "source": [
    "train_dataset = EpisodicDataset(dataset_path_list, \n",
    "                                camera_names, \n",
    "                                norm_stats, \n",
    "                                train_episode_ids, \n",
    "                                train_episode_len, \n",
    "                                chunk_size, \n",
    "                                policy_class)\n"
   ]
  },
  {
   "cell_type": "markdown",
   "metadata": {},
   "source": [
    "### Dataset for RS435i UPI"
   ]
  },
  {
   "cell_type": "code",
   "execution_count": 12,
   "metadata": {},
   "outputs": [],
   "source": [
    "from datasets import EpisodicDatasetRs435i, get_norm_stats_folder, find_all_datafolder, load_folderdata"
   ]
  },
  {
   "cell_type": "code",
   "execution_count": 8,
   "metadata": {},
   "outputs": [
    {
     "name": "stdout",
     "output_type": "stream",
     "text": [
      "Found 41 datafolders under /home/zfei/data/UPI/lab_sb/rs435i_lab_picking_024-08-29-09-07-12/grip_data_seg/\n"
     ]
    }
   ],
   "source": [
    "dataset_path_list = find_all_datafolder(\"/home/zfei/data/UPI/lab_sb/rs435i_lab_picking_024-08-29-09-07-12/grip_data_seg/\")\n",
    "norm_stats, all_episode_len  = get_norm_stats_folder(dataset_path_list)\n",
    "\n",
    "camera_names = ['color']\n",
    "train_episode_ids = [0, 1]\n",
    "train_episode_len = [all_episode_len[i] for i in train_episode_ids]\n",
    "\n",
    "chunk_size = 64\n",
    "policy_class = \"ACTEP\"\n",
    "policy_class = \"ACT\"\n",
    "\n"
   ]
  },
  {
   "cell_type": "code",
   "execution_count": 9,
   "metadata": {},
   "outputs": [
    {
     "name": "stdout",
     "output_type": "stream",
     "text": [
      "augment_images:  False\n",
      "episode_id:  0\n",
      "start_ts:  0\n",
      "Initializing transformations\n"
     ]
    }
   ],
   "source": [
    "dataset = EpisodicDatasetRs435i(dataset_path_list, camera_names, norm_stats, train_episode_ids, train_episode_len, chunk_size, policy_class)"
   ]
  },
  {
   "cell_type": "code",
   "execution_count": 10,
   "metadata": {},
   "outputs": [
    {
     "name": "stdout",
     "output_type": "stream",
     "text": [
      "episode_id:  0\n",
      "start_ts:  50\n"
     ]
    }
   ],
   "source": [
    "image_data, action_data, is_pad = dataset[50]"
   ]
  },
  {
   "cell_type": "code",
   "execution_count": 11,
   "metadata": {},
   "outputs": [
    {
     "name": "stdout",
     "output_type": "stream",
     "text": [
      "torch.Size([1, 3, 480, 848])\n",
      "torch.Size([64, 7])\n",
      "tensor([False, False, False, False, False, False, False, False, False, False,\n",
      "        False, False, False, False, False, False, False, False, False, False,\n",
      "         True,  True,  True,  True,  True,  True,  True,  True,  True,  True,\n",
      "         True,  True,  True,  True,  True,  True,  True,  True,  True,  True,\n",
      "         True,  True,  True,  True,  True,  True,  True,  True,  True,  True,\n",
      "         True,  True,  True,  True,  True,  True,  True,  True,  True,  True,\n",
      "         True,  True,  True,  True])\n"
     ]
    }
   ],
   "source": [
    "print(image_data.shape)\n",
    "print(action_data.shape)\n",
    "print(is_pad)"
   ]
  },
  {
   "cell_type": "code",
   "execution_count": 13,
   "metadata": {},
   "outputs": [],
   "source": [
    "dataset_dir = \"/home/zfei/data/UPI/lab_sb/rs435i_lab_picking_024-08-29-09-07-12/grip_data_seg/\"\n",
    "name_filter = lambda n: True\n",
    "batch_size_train = 8\n",
    "batch_size_val = 8\n",
    "chunk_size = 64\n",
    "skip_mirrored_data = False\n",
    "load_pretrain = False\n",
    "stats_dir = None\n",
    "sample_weights = None\n",
    "train_ratio = 0.99\n",
    "resize = None\n",
    "seed = 0\n",
    "policy_class = \"ACTEP\""
   ]
  },
  {
   "cell_type": "code",
   "execution_count": 27,
   "metadata": {},
   "outputs": [
    {
     "name": "stdout",
     "output_type": "stream",
     "text": [
      "Found 41 datafolders under /home/zfei/data/UPI/lab_sb/rs435i_lab_picking_024-08-29-09-07-12/grip_data_seg/\n",
      "dataset_path_list_list:  [['/home/zfei/data/UPI/lab_sb/rs435i_lab_picking_024-08-29-09-07-12/grip_data_seg/seg_00000', '/home/zfei/data/UPI/lab_sb/rs435i_lab_picking_024-08-29-09-07-12/grip_data_seg/seg_00037', '/home/zfei/data/UPI/lab_sb/rs435i_lab_picking_024-08-29-09-07-12/grip_data_seg/seg_00014', '/home/zfei/data/UPI/lab_sb/rs435i_lab_picking_024-08-29-09-07-12/grip_data_seg/seg_00011', '/home/zfei/data/UPI/lab_sb/rs435i_lab_picking_024-08-29-09-07-12/grip_data_seg/seg_00008', '/home/zfei/data/UPI/lab_sb/rs435i_lab_picking_024-08-29-09-07-12/grip_data_seg/seg_00016', '/home/zfei/data/UPI/lab_sb/rs435i_lab_picking_024-08-29-09-07-12/grip_data_seg/seg_00001', '/home/zfei/data/UPI/lab_sb/rs435i_lab_picking_024-08-29-09-07-12/grip_data_seg/seg_00032', '/home/zfei/data/UPI/lab_sb/rs435i_lab_picking_024-08-29-09-07-12/grip_data_seg/seg_00029', '/home/zfei/data/UPI/lab_sb/rs435i_lab_picking_024-08-29-09-07-12/grip_data_seg/seg_00017', '/home/zfei/data/UPI/lab_sb/rs435i_lab_picking_024-08-29-09-07-12/grip_data_seg/seg_00005', '/home/zfei/data/UPI/lab_sb/rs435i_lab_picking_024-08-29-09-07-12/grip_data_seg/seg_00003', '/home/zfei/data/UPI/lab_sb/rs435i_lab_picking_024-08-29-09-07-12/grip_data_seg/seg_00030', '/home/zfei/data/UPI/lab_sb/rs435i_lab_picking_024-08-29-09-07-12/grip_data_seg/seg_00019', '/home/zfei/data/UPI/lab_sb/rs435i_lab_picking_024-08-29-09-07-12/grip_data_seg/seg_00020', '/home/zfei/data/UPI/lab_sb/rs435i_lab_picking_024-08-29-09-07-12/grip_data_seg/seg_00031', '/home/zfei/data/UPI/lab_sb/rs435i_lab_picking_024-08-29-09-07-12/grip_data_seg/seg_00023', '/home/zfei/data/UPI/lab_sb/rs435i_lab_picking_024-08-29-09-07-12/grip_data_seg/seg_00040', '/home/zfei/data/UPI/lab_sb/rs435i_lab_picking_024-08-29-09-07-12/grip_data_seg/seg_00009', '/home/zfei/data/UPI/lab_sb/rs435i_lab_picking_024-08-29-09-07-12/grip_data_seg/seg_00035', '/home/zfei/data/UPI/lab_sb/rs435i_lab_picking_024-08-29-09-07-12/grip_data_seg/seg_00027', '/home/zfei/data/UPI/lab_sb/rs435i_lab_picking_024-08-29-09-07-12/grip_data_seg/seg_00036', '/home/zfei/data/UPI/lab_sb/rs435i_lab_picking_024-08-29-09-07-12/grip_data_seg/seg_00038', '/home/zfei/data/UPI/lab_sb/rs435i_lab_picking_024-08-29-09-07-12/grip_data_seg/seg_00026', '/home/zfei/data/UPI/lab_sb/rs435i_lab_picking_024-08-29-09-07-12/grip_data_seg/seg_00028', '/home/zfei/data/UPI/lab_sb/rs435i_lab_picking_024-08-29-09-07-12/grip_data_seg/seg_00034', '/home/zfei/data/UPI/lab_sb/rs435i_lab_picking_024-08-29-09-07-12/grip_data_seg/seg_00002', '/home/zfei/data/UPI/lab_sb/rs435i_lab_picking_024-08-29-09-07-12/grip_data_seg/seg_00033', '/home/zfei/data/UPI/lab_sb/rs435i_lab_picking_024-08-29-09-07-12/grip_data_seg/seg_00012', '/home/zfei/data/UPI/lab_sb/rs435i_lab_picking_024-08-29-09-07-12/grip_data_seg/seg_00007', '/home/zfei/data/UPI/lab_sb/rs435i_lab_picking_024-08-29-09-07-12/grip_data_seg/seg_00024', '/home/zfei/data/UPI/lab_sb/rs435i_lab_picking_024-08-29-09-07-12/grip_data_seg/seg_00025', '/home/zfei/data/UPI/lab_sb/rs435i_lab_picking_024-08-29-09-07-12/grip_data_seg/seg_00004', '/home/zfei/data/UPI/lab_sb/rs435i_lab_picking_024-08-29-09-07-12/grip_data_seg/seg_00022', '/home/zfei/data/UPI/lab_sb/rs435i_lab_picking_024-08-29-09-07-12/grip_data_seg/seg_00013', '/home/zfei/data/UPI/lab_sb/rs435i_lab_picking_024-08-29-09-07-12/grip_data_seg/seg_00015', '/home/zfei/data/UPI/lab_sb/rs435i_lab_picking_024-08-29-09-07-12/grip_data_seg/seg_00021', '/home/zfei/data/UPI/lab_sb/rs435i_lab_picking_024-08-29-09-07-12/grip_data_seg/seg_00039', '/home/zfei/data/UPI/lab_sb/rs435i_lab_picking_024-08-29-09-07-12/grip_data_seg/seg_00006', '/home/zfei/data/UPI/lab_sb/rs435i_lab_picking_024-08-29-09-07-12/grip_data_seg/seg_00018', '/home/zfei/data/UPI/lab_sb/rs435i_lab_picking_024-08-29-09-07-12/grip_data_seg/seg_00010']]\n",
      "Random validation set\n",
      "train_episode_ids_l:  [array([25, 35, 29,  4, 10, 31, 27, 11, 36, 30, 28, 20, 38,  2, 40, 18, 15,\n",
      "       22, 16, 37,  8, 13,  5, 17, 14, 34,  7, 33,  1, 26, 12, 32, 24,  6,\n",
      "       23, 21, 19,  9, 39,  3])]\n",
      "val_episode_ids_l:  [array([0])]\n",
      "\n",
      "\n",
      "Data from: ['/home/zfei/data/UPI/lab_sb/rs435i_lab_picking_024-08-29-09-07-12/grip_data_seg/']\n",
      "- Train on [40] episodes\n",
      "- Test on [1] episodes\n",
      "\n",
      "\n",
      "Found 41 datafolders under /home/zfei/data/UPI/lab_sb/rs435i_lab_picking_024-08-29-09-07-12/grip_data_seg/\n",
      "Norm stats from: ['/home/zfei/data/UPI/lab_sb/rs435i_lab_picking_024-08-29-09-07-12/grip_data_seg/']\n",
      "train_episode_len: [71, 77, 71, 68, 73, 62, 70, 80, 74, 70, 79, 63, 94, 84, 73, 77, 58, 67, 65, 58, 62, 67, 74, 60, 69, 72, 59, 64, 60, 79, 60, 82, 63, 68, 61, 69, 59, 79, 74, 57], val_episode_len: [69], train_episode_ids: [25 35 29  4 10 31 27 11 36 30 28 20 38  2 40 18 15 22 16 37  8 13  5 17\n",
      " 14 34  7 33  1 26 12 32 24  6 23 21 19  9 39  3], val_episode_ids: [0]\n",
      "val data:  /home/zfei/data/UPI/lab_sb/rs435i_lab_picking_024-08-29-09-07-12/grip_data_seg/seg_00000\n",
      "augment_images:  False\n",
      "Initializing transformations\n",
      "augment_images:  False\n",
      "Initializing transformations\n",
      "Augment images: False, train_num_workers: 8, val_num_workers: 8\n"
     ]
    }
   ],
   "source": [
    "train_dataloader, val_dataloader, norm_stats, is_sim = load_folderdata(dataset_dir, \n",
    "                name_filter, \n",
    "                camera_names, \n",
    "                batch_size_train, \n",
    "                batch_size_val, \n",
    "                chunk_size, \n",
    "                skip_mirrored_data, \n",
    "                load_pretrain, \n",
    "                policy_class, \n",
    "                stats_dir_l=stats_dir, \n",
    "                sample_weights=sample_weights, \n",
    "                train_ratio=train_ratio, \n",
    "                resize=resize, \n",
    "                seed=seed)"
   ]
  },
  {
   "cell_type": "code",
   "execution_count": 28,
   "metadata": {},
   "outputs": [],
   "source": [
    "def repeater(data_loader):\n",
    "    epoch = 0\n",
    "    for loader in repeat(data_loader):\n",
    "        for data in loader:\n",
    "            yield data\n",
    "        print(f'Epoch {epoch} done')\n",
    "        epoch += 1\n"
   ]
  },
  {
   "cell_type": "code",
   "execution_count": 29,
   "metadata": {},
   "outputs": [],
   "source": [
    "train_dataloader_rep = repeater(train_dataloader)\n"
   ]
  },
  {
   "cell_type": "code",
   "execution_count": 35,
   "metadata": {},
   "outputs": [],
   "source": [
    "image_data, action_data, is_pad = next(train_dataloader_rep)"
   ]
  },
  {
   "cell_type": "code",
   "execution_count": 37,
   "metadata": {},
   "outputs": [
    {
     "data": {
      "text/plain": [
       "torch.Size([8, 64, 7])"
      ]
     },
     "execution_count": 37,
     "metadata": {},
     "output_type": "execute_result"
    }
   ],
   "source": [
    "action_data.shape"
   ]
  },
  {
   "cell_type": "code",
   "execution_count": null,
   "metadata": {},
   "outputs": [],
   "source": []
  }
 ],
 "metadata": {
  "kernelspec": {
   "display_name": "py310",
   "language": "python",
   "name": "python3"
  },
  "language_info": {
   "codemirror_mode": {
    "name": "ipython",
    "version": 3
   },
   "file_extension": ".py",
   "mimetype": "text/x-python",
   "name": "python",
   "nbconvert_exporter": "python",
   "pygments_lexer": "ipython3",
   "version": "3.10.12"
  }
 },
 "nbformat": 4,
 "nbformat_minor": 2
}
